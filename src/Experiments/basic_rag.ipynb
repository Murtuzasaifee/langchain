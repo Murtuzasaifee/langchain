{
 "cells": [
  {
   "cell_type": "markdown",
   "metadata": {},
   "source": [
    "### Basic RAG Implementation with Vector Store\n",
    "- Vector Store using FAISS"
   ]
  },
  {
   "cell_type": "code",
   "execution_count": 1,
   "metadata": {},
   "outputs": [],
   "source": [
    "import os\n",
    "from dotenv import load_dotenv\n",
    "load_dotenv()\n",
    "\n",
    "os.environ['OPENAI_API_KEY']=os.getenv(\"OPENAI_API_KEY\")\n",
    "## Langsmith Tracking\n",
    "os.environ[\"LANGCHAIN_API_KEY\"]=os.getenv(\"LANGCHAIN_API_KEY\")\n",
    "os.environ[\"LANGCHAIN_TRACING_V2\"]=\"true\"\n",
    "os.environ[\"LANGCHAIN_PROJECT\"]=os.getenv(\"LANGCHAIN_PROJECT\")"
   ]
  },
  {
   "cell_type": "code",
   "execution_count": 2,
   "metadata": {},
   "outputs": [
    {
     "name": "stderr",
     "output_type": "stream",
     "text": [
      "USER_AGENT environment variable not set, consider setting it to identify your requests.\n"
     ]
    },
    {
     "data": {
      "text/plain": [
       "<langchain_community.document_loaders.web_base.WebBaseLoader at 0x103780710>"
      ]
     },
     "execution_count": 2,
     "metadata": {},
     "output_type": "execute_result"
    }
   ],
   "source": [
    "from langchain_community.document_loaders import WebBaseLoader\n",
    "\n",
    "loader= WebBaseLoader(\"https://python.langchain.com/docs/versions/v0_3/\")\n",
    "\n",
    "loader"
   ]
  },
  {
   "cell_type": "code",
   "execution_count": 3,
   "metadata": {},
   "outputs": [
    {
     "data": {
      "text/plain": [
       "[Document(metadata={'source': 'https://python.langchain.com/docs/versions/v0_3/', 'title': 'LangChain v0.3 | 🦜️🔗 LangChain', 'description': 'Last updated: 09.16.24', 'language': 'en'}, page_content='\\n\\n\\n\\n\\nLangChain v0.3 | 🦜️🔗 LangChain\\n\\n\\n\\n\\n\\n\\nSkip to main contentJoin us at  Interrupt: The Agent AI Conference by LangChain on May 13 & 14 in San Francisco!IntegrationsAPI ReferenceMoreContributingPeopleError referenceLangSmithLangGraphLangChain HubLangChain JS/TSv0.3v0.3v0.2v0.1💬SearchIntroductionTutorialsBuild a Question Answering application over a Graph DatabaseTutorialsBuild a simple LLM application with chat models and prompt templatesBuild a ChatbotBuild a Retrieval Augmented Generation (RAG) App: Part 2Build an Extraction ChainBuild an AgentTaggingBuild a Retrieval Augmented Generation (RAG) App: Part 1Build a semantic search engineBuild a Question/Answering system over SQL dataSummarize TextHow-to guidesHow-to guidesHow to use tools in a chainHow to use a vectorstore as a retrieverHow to add memory to chatbotsHow to use example selectorsHow to add a semantic layer over graph databaseHow to invoke runnables in parallelHow to stream chat model responsesHow to add default invocation args to a RunnableHow to add retrieval to chatbotsHow to use few shot examples in chat modelsHow to do tool/function callingHow to install LangChain packagesHow to add examples to the prompt for query analysisHow to use few shot examplesHow to run custom functionsHow to use output parsers to parse an LLM response into structured formatHow to handle cases where no queries are generatedHow to route between sub-chainsHow to return structured data from a modelHow to summarize text through parallelizationHow to summarize text through iterative refinementHow to summarize text in a single LLM callHow to use toolkitsHow to add ad-hoc tool calling capability to LLMs and Chat ModelsBuild an Agent with AgentExecutor (Legacy)How to construct knowledge graphsHow to partially format prompt templatesHow to handle multiple queries when doing query analysisHow to use built-in tools and toolkitsHow to pass through arguments from one step to the nextHow to compose prompts togetherHow to handle multiple retrievers when doing query analysisHow to add values to a chain\\'s stateHow to construct filters for query analysisHow to configure runtime chain internalsHow deal with high cardinality categoricals when doing query analysisCustom Document LoaderHow to use the MultiQueryRetrieverHow to add scores to retriever resultsCachingHow to use callbacks in async environmentsHow to attach callbacks to a runnableHow to propagate callbacks  constructorHow to dispatch custom callback eventsHow to pass callbacks in at runtimeHow to split by characterHow to cache chat model responsesHow to handle rate limitsHow to init any model in one lineHow to track token usage in ChatModelsHow to add tools to chatbotsHow to split codeHow to do retrieval with contextual compressionHow to convert Runnables to ToolsHow to create custom callback handlersHow to create a custom chat model classCustom EmbeddingsHow to create a custom LLM classCustom RetrieverHow to create toolsHow to debug your LLM appsHow to load CSVsHow to load documents from a directoryHow to load HTMLHow to load JSONHow to load MarkdownHow to load Microsoft Office filesHow to load PDFsHow to load web pagesHow to create a dynamic (self-constructing) chainText embedding modelsHow to combine results from multiple retrieversHow to select examples from a LangSmith datasetHow to select examples by lengthHow to select examples by maximal marginal relevance (MMR)How to select examples by n-gram overlapHow to select examples by similarityHow to use reference examples when doing extractionHow to handle long text when doing extractionHow to use prompting alone (no tool calling) to do extractionHow to add fallbacks to a runnableHow to filter messagesHybrid SearchHow to use the LangChain indexing APIHow to inspect runnablesLangChain Expression Language CheatsheetHow to cache LLM responsesHow to track token usage for LLMsRun models locallyHow to get log probabilitiesHow to reorder retrieved results to mitigate the \"lost in the middle\" effectHow to split Markdown by HeadersHow to merge consecutive messages of the same typeHow to add message historyHow to migrate from legacy LangChain agents to LangGraphHow to retrieve using multiple vectors per documentHow to pass multimodal data directly to modelsHow to use multimodal promptsHow to create a custom Output ParserHow to use the output-fixing parserHow to parse JSON outputHow to retry when a parsing error occursHow to parse text from message objectsHow to parse XML outputHow to parse YAML outputHow to use the Parent Document RetrieverHow to use LangChain with different Pydantic versionsHow to add chat historyHow to get a RAG application to add citationsHow to do per-user retrievalHow to get your RAG application to return sourcesHow to stream results from your RAG applicationHow to split JSON dataHow to recursively split text by charactersResponse metadataHow to pass runtime secrets to runnablesHow to do \"self-querying\" retrievalHow to split text based on semantic similarityHow to chain runnablesHow to save and load LangChain objectsHow to split text by tokensHow to split HTMLHow to do question answering over CSVsHow to deal with large databases when doing SQL question-answeringHow to better prompt when doing SQL question-answeringHow to do query validation as part of SQL question-answeringHow to stream runnablesHow to stream responses from an LLMHow to use a time-weighted vector store retrieverHow to return artifacts from a toolHow to use chat models to call toolsHow to disable parallel tool callingHow to force models to call a toolHow to access the RunnableConfig from a toolHow to pass tool outputs to chat modelsHow to pass run time values to toolsHow to stream events from a toolHow to stream tool callsHow to convert tools to OpenAI FunctionsHow to handle tool errorsHow to use few-shot prompting with tool callingHow to add a human-in-the-loop for toolsHow to bind model-specific toolsHow to trim messagesHow to create and query vector storesConceptual guideAgentsArchitectureAsync programming with langchainCallbacksChat historyChat modelsDocument loadersEmbedding modelsEvaluationExample selectorsFew-shot promptingConceptual guideKey-value storesLangChain Expression Language (LCEL)MessagesMultimodalityOutput parsersPrompt TemplatesRetrieval augmented generation (RAG)RetrievalRetrieversRunnable interfaceStreamingStructured outputsTestingString-in, string-out llmsText splittersTokensTool callingToolsTracingVector storesWhy LangChain?Ecosystem🦜🛠️ LangSmith🦜🕸️ LangGraphVersionsv0.3v0.2Pydantic compatibilityMigrating from v0.0 chainsHow to migrate from v0.0 chainsMigrating from ConstitutionalChainMigrating from ConversationalChainMigrating from ConversationalRetrievalChainMigrating from LLMChainMigrating from LLMMathChainMigrating from LLMRouterChainMigrating from MapReduceDocumentsChainMigrating from MapRerankDocumentsChainMigrating from MultiPromptChainMigrating from RefineDocumentsChainMigrating from RetrievalQAMigrating from StuffDocumentsChainUpgrading to LangGraph memoryHow to migrate to LangGraph memoryHow to use BaseChatMessageHistory with LangGraphMigrating off ConversationBufferMemory or ConversationStringBufferMemoryMigrating off ConversationBufferWindowMemory or ConversationTokenBufferMemoryMigrating off ConversationSummaryMemory or ConversationSummaryBufferMemoryA Long-Term Memory AgentRelease policySecurity PolicyVersionsv0.3On this pageLangChain v0.3\\nLast updated: 09.16.24\\nWhat\\'s changed\\u200b\\n\\nAll packages have been upgraded from Pydantic 1 to Pydantic 2 internally. Use of Pydantic 2 in user code is fully supported with all packages without the need for bridges like langchain_core.pydantic_v1 or pydantic.v1.\\nPydantic 1 will no longer be supported as it reached its end-of-life in June 2024.\\nPython 3.8 will no longer be supported as its end-of-life is October 2024.\\n\\nThese are the only breaking changes.\\nWhat’s new\\u200b\\nThe following features have been added during the development of 0.2.x:\\n\\nMoved more integrations from langchain-community to their own langchain-x packages. This is a non-breaking change, as the legacy implementations are left in langchain-community and marked as deprecated. This allows us to better manage the dependencies of, test, and version these integrations. You can see all the latest integration packages in the API reference.\\nSimplified tool definition and usage. Read more here.\\nAdded utilities for interacting with chat models: universal model constructor, rate limiter, message utilities,\\nAdded the ability to dispatch custom events.\\nRevamped integration docs and API reference. Read more here.\\nMarked as deprecated a number of legacy chains and added migration guides for all of them. These are slated for removal in langchain 1.0.0. See the deprecated chains and associated migration guides here.\\n\\nHow to update your code\\u200b\\nIf you\\'re using langchain / langchain-community / langchain-core 0.0 or 0.1, we recommend that you first upgrade to 0.2.\\nIf you\\'re using langgraph, upgrade to langgraph>=0.2.20,<0.3. This will work with either 0.2 or 0.3 versions of all the base packages.\\nHere is a complete list of all packages that have been released and what we recommend upgrading your version constraints to.\\nAny package that now requires langchain-core 0.3 had a minor version bump.\\nAny package that is now compatible with both langchain-core 0.2 and 0.3 had a patch version bump.\\nYou can use the langchain-cli to update deprecated imports automatically.\\nThe CLI will handle updating deprecated imports that were introduced in LangChain 0.0.x and LangChain 0.1, as\\nwell as updating the langchain_core.pydantic_v1 and langchain.pydantic_v1 imports.\\nBase packages\\u200b\\nPackageLatestRecommended constraintlangchain0.3.0>=0.3,<0.4langchain-community0.3.0>=0.3,<0.4langchain-text-splitters0.3.0>=0.3,<0.4langchain-core0.3.0>=0.3,<0.4langchain-experimental0.3.0>=0.3,<0.4\\nDownstream packages\\u200b\\nPackageLatestRecommended constraintlanggraph0.2.20>=0.2.20,<0.3langserve0.3.0>=0.3,<0.4\\nIntegration packages\\u200b\\nPackageLatestRecommended constraintlangchain-ai210.2.0>=0.2,<0.3langchain-aws0.2.0>=0.2,<0.3langchain-anthropic0.2.0>=0.2,<0.3langchain-astradb0.4.1>=0.4.1,<0.5langchain-azure-dynamic-sessions0.2.0>=0.2,<0.3langchain-box0.2.0>=0.2,<0.3langchain-chroma0.1.4>=0.1.4,<0.2langchain-cohere0.3.0>=0.3,<0.4langchain-elasticsearch0.3.0>=0.3,<0.4langchain-exa0.2.0>=0.2,<0.3langchain-fireworks0.2.0>=0.2,<0.3langchain-groq0.2.0>=0.2,<0.3langchain-google-community2.0.0>=2,<3langchain-google-genai2.0.0>=2,<3langchain-google-vertexai2.0.0>=2,<3langchain-huggingface0.1.0>=0.1,<0.2langchain-ibm0.3.0>=0.3,<0.4langchain-milvus0.1.6>=0.1.6,<0.2langchain-mistralai0.2.0>=0.2,<0.3langchain-mongodb0.2.0>=0.2,<0.3langchain-nomic0.1.3>=0.1.3,<0.2langchain-nvidia0.3.0>=0.3,<0.4langchain-ollama0.2.0>=0.2,<0.3langchain-openai0.2.0>=0.2,<0.3langchain-pinecone0.2.0>=0.2,<0.3langchain-postgres0.0.13>=0.0.13,<0.1langchain-prompty0.1.0>=0.1,<0.2langchain-qdrant0.1.4>=0.1.4,<0.2langchain-redis0.1.0>=0.1,<0.2langchain-sema40.2.0>=0.2,<0.3langchain-together0.2.0>=0.2,<0.3langchain-unstructured0.1.4>=0.1.4,<0.2langchain-upstage0.3.0>=0.3,<0.4langchain-voyageai0.2.0>=0.2,<0.3langchain-weaviate0.0.3>=0.0.3,<0.1\\nOnce you\\'ve updated to recent versions of the packages, you may need to address the following issues stemming from the internal switch from Pydantic v1 to Pydantic v2:\\n\\nIf your code depends on Pydantic aside from LangChain, you will need to upgrade your pydantic version constraints to be pydantic>=2,<3.  See Pydantic’s migration guide for help migrating your non-LangChain code to Pydantic v2 if you use pydantic v1.\\nThere are a number of side effects to LangChain components caused by the internal switch from Pydantic v1 to v2. We have listed some of the common cases below together with the recommended solutions.\\n\\nCommon issues when transitioning to Pydantic 2\\u200b\\n1. Do not use the langchain_core.pydantic_v1 namespace\\u200b\\nReplace any usage of langchain_core.pydantic_v1 or langchain.pydantic_v1 with\\ndirect imports from pydantic.\\nFor example,\\nfrom langchain_core.pydantic_v1 import BaseModel\\nto:\\nfrom pydantic import BaseModel\\nThis may require you to make additional updates to your Pydantic code given that there are a number of breaking changes in Pydantic 2. See the Pydantic Migration for how to upgrade your code from Pydantic 1 to 2.\\n2. Passing Pydantic objects to LangChain APIs\\u200b\\nUsers using the following APIs:\\n\\nBaseChatModel.bind_tools\\nBaseChatModel.with_structured_output\\nTool.from_function\\nStructuredTool.from_function\\n\\nshould ensure that they are passing Pydantic 2 objects to these APIs rather than\\nPydantic 1 objects (created via the pydantic.v1 namespace of pydantic 2).\\ncautionWhile v1 objects may be accepted by some of these APIs, users are advised to\\nuse Pydantic 2 objects to avoid future issues.\\n3. Sub-classing LangChain models\\u200b\\nAny sub-classing from existing LangChain models (e.g., BaseTool, BaseChatModel, LLM)\\nshould upgrade to use Pydantic 2 features.\\nFor example, any user code that\\'s relying on Pydantic 1 features (e.g., validator) should\\nbe updated to the Pydantic 2 equivalent (e.g., field_validator), and any references to\\npydantic.v1, langchain_core.pydantic_v1, langchain.pydantic_v1 should be replaced\\nwith imports from pydantic.\\nfrom pydantic.v1 import validator, Field # if pydantic 2 is installed# from pydantic import validator, Field # if pydantic 1 is installed# from langchain_core.pydantic_v1 import validator, Field# from langchain.pydantic_v1 import validator, Fieldclass CustomTool(BaseTool): # BaseTool is v1 code    x: int = Field(default=1)    def _run(*args, **kwargs):        return \"hello\"    @validator(\\'x\\') # v1 code    @classmethod    def validate_x(cls, x: int) -> int:        return 1\\nShould change to:\\nfrom pydantic import Field, field_validator # pydantic v2from langchain_core.pydantic_v1 import BaseToolclass CustomTool(BaseTool): # BaseTool is v1 code    x: int = Field(default=1)    def _run(*args, **kwargs):        return \"hello\"    @field_validator(\\'x\\') # v2 code    @classmethod    def validate_x(cls, x: int) -> int:        return 1CustomTool(    name=\\'custom_tool\\',    description=\"hello\",    x=1,)\\n4. model_rebuild()\\u200b\\nWhen sub-classing from LangChain models, users may need to add relevant imports\\nto the file and rebuild the model.\\nYou can read more about model_rebuild here.\\nfrom langchain_core.output_parsers import BaseOutputParserclass FooParser(BaseOutputParser):    ...API Reference:BaseOutputParser\\nNew code:\\nfrom typing import Optional as Optionalfrom langchain_core.output_parsers import BaseOutputParserclass FooParser(BaseOutputParser):    ...FooParser.model_rebuild()API Reference:BaseOutputParser\\nMigrate using langchain-cli\\u200b\\nThe langchain-cli can help update deprecated LangChain imports in your code automatically.\\nPlease note that the langchain-cli only handles deprecated LangChain imports and cannot\\nhelp to upgrade your code from pydantic 1 to pydantic 2.\\nFor help with the Pydantic 1 to 2 migration itself please refer to the Pydantic Migration Guidelines.\\nAs of 0.0.31, the langchain-cli relies on gritql for applying code mods.\\nInstallation\\u200b\\npip install -U langchain-clilangchain-cli --version # <-- Make sure the version is at least 0.0.31\\nUsage\\u200b\\nGiven that the migration script is not perfect, you should make sure you have a backup of your code first (e.g., using version control like git).\\nThe langchain-cli will handle the langchain_core.pydantic_v1 deprecation introduced in LangChain 0.3 as well\\nas older deprecations (e.g.,from langchain.chat_models import ChatOpenAI which should be from langchain_openai import ChatOpenAI),\\nYou will need to run the migration script twice as it only applies one import replacement per run.\\nFor example, say that your code is still using the old import from langchain.chat_models import ChatOpenAI:\\nAfter the first run, you’ll get: from langchain_community.chat_models import ChatOpenAI\\nAfter the second run, you’ll get: from langchain_openai import ChatOpenAI\\n# Run a first time# Will replace from langchain.chat_models import ChatOpenAIlangchain-cli migrate --help [path to code] # Helplangchain-cli migrate [path to code] # Apply# Run a second time to apply more import replacementslangchain-cli migrate --diff [path to code] # Previewlangchain-cli migrate [path to code] # Apply\\nOther options\\u200b\\n# See help menulangchain-cli migrate --help# Preview Changes without applyinglangchain-cli migrate --diff [path to code]# Approve changes interactivelylangchain-cli migrate --interactive [path to code]Edit this pageWas this page helpful?PreviousWhy LangChain?NextOverviewWhat\\'s changedWhat’s newHow to update your codeBase packagesDownstream packagesIntegration packagesCommon issues when transitioning to Pydantic 21. Do not use the langchain_core.pydantic_v1 namespace2. Passing Pydantic objects to LangChain APIs3. Sub-classing LangChain models4. model_rebuild()Migrate using langchain-cliInstallationUsageOther optionsCommunityTwitterGitHubOrganizationPythonJS/TSMoreHomepageBlogYouTubeCopyright © 2025 LangChain, Inc.\\n\\n')]"
      ]
     },
     "execution_count": 3,
     "metadata": {},
     "output_type": "execute_result"
    }
   ],
   "source": [
    "document = loader.load()\n",
    "document"
   ]
  },
  {
   "cell_type": "code",
   "execution_count": 4,
   "metadata": {},
   "outputs": [
    {
     "data": {
      "text/plain": [
       "[Document(metadata={'source': 'https://python.langchain.com/docs/versions/v0_3/', 'title': 'LangChain v0.3 | 🦜️🔗 LangChain', 'description': 'Last updated: 09.16.24', 'language': 'en'}, page_content='LangChain v0.3 | 🦜️🔗 LangChain'),\n",
       " Document(metadata={'source': 'https://python.langchain.com/docs/versions/v0_3/', 'title': 'LangChain v0.3 | 🦜️🔗 LangChain', 'description': 'Last updated: 09.16.24', 'language': 'en'}, page_content='Skip to main contentJoin us at  Interrupt: The Agent AI Conference by LangChain on May 13 & 14 in San Francisco!IntegrationsAPI ReferenceMoreContributingPeopleError referenceLangSmithLangGraphLangChain HubLangChain JS/TSv0.3v0.3v0.2v0.1💬SearchIntroductionTutorialsBuild a Question Answering application over a Graph DatabaseTutorialsBuild a simple LLM application with chat models and prompt templatesBuild a ChatbotBuild a Retrieval Augmented Generation (RAG) App: Part 2Build an Extraction ChainBuild an AgentTaggingBuild a Retrieval Augmented Generation (RAG) App: Part 1Build a semantic search engineBuild a Question/Answering system over SQL dataSummarize TextHow-to guidesHow-to guidesHow to use tools in a chainHow to use a vectorstore as a retrieverHow to add memory to chatbotsHow to use example selectorsHow to add a semantic layer over graph databaseHow to invoke runnables in parallelHow to stream chat model responsesHow to add default invocation args to a RunnableHow to add retrieval'),\n",
       " Document(metadata={'source': 'https://python.langchain.com/docs/versions/v0_3/', 'title': 'LangChain v0.3 | 🦜️🔗 LangChain', 'description': 'Last updated: 09.16.24', 'language': 'en'}, page_content='selectorsHow to add a semantic layer over graph databaseHow to invoke runnables in parallelHow to stream chat model responsesHow to add default invocation args to a RunnableHow to add retrieval to chatbotsHow to use few shot examples in chat modelsHow to do tool/function callingHow to install LangChain packagesHow to add examples to the prompt for query analysisHow to use few shot examplesHow to run custom functionsHow to use output parsers to parse an LLM response into structured formatHow to handle cases where no queries are generatedHow to route between sub-chainsHow to return structured data from a modelHow to summarize text through parallelizationHow to summarize text through iterative refinementHow to summarize text in a single LLM callHow to use toolkitsHow to add ad-hoc tool calling capability to LLMs and Chat ModelsBuild an Agent with AgentExecutor (Legacy)How to construct knowledge graphsHow to partially format prompt templatesHow to handle multiple queries when doing query'),\n",
       " Document(metadata={'source': 'https://python.langchain.com/docs/versions/v0_3/', 'title': 'LangChain v0.3 | 🦜️🔗 LangChain', 'description': 'Last updated: 09.16.24', 'language': 'en'}, page_content=\"capability to LLMs and Chat ModelsBuild an Agent with AgentExecutor (Legacy)How to construct knowledge graphsHow to partially format prompt templatesHow to handle multiple queries when doing query analysisHow to use built-in tools and toolkitsHow to pass through arguments from one step to the nextHow to compose prompts togetherHow to handle multiple retrievers when doing query analysisHow to add values to a chain's stateHow to construct filters for query analysisHow to configure runtime chain internalsHow deal with high cardinality categoricals when doing query analysisCustom Document LoaderHow to use the MultiQueryRetrieverHow to add scores to retriever resultsCachingHow to use callbacks in async environmentsHow to attach callbacks to a runnableHow to propagate callbacks  constructorHow to dispatch custom callback eventsHow to pass callbacks in at runtimeHow to split by characterHow to cache chat model responsesHow to handle rate limitsHow to init any model in one lineHow to track\"),\n",
       " Document(metadata={'source': 'https://python.langchain.com/docs/versions/v0_3/', 'title': 'LangChain v0.3 | 🦜️🔗 LangChain', 'description': 'Last updated: 09.16.24', 'language': 'en'}, page_content='to dispatch custom callback eventsHow to pass callbacks in at runtimeHow to split by characterHow to cache chat model responsesHow to handle rate limitsHow to init any model in one lineHow to track token usage in ChatModelsHow to add tools to chatbotsHow to split codeHow to do retrieval with contextual compressionHow to convert Runnables to ToolsHow to create custom callback handlersHow to create a custom chat model classCustom EmbeddingsHow to create a custom LLM classCustom RetrieverHow to create toolsHow to debug your LLM appsHow to load CSVsHow to load documents from a directoryHow to load HTMLHow to load JSONHow to load MarkdownHow to load Microsoft Office filesHow to load PDFsHow to load web pagesHow to create a dynamic (self-constructing) chainText embedding modelsHow to combine results from multiple retrieversHow to select examples from a LangSmith datasetHow to select examples by lengthHow to select examples by maximal marginal relevance (MMR)How to select examples by n-gram'),\n",
       " Document(metadata={'source': 'https://python.langchain.com/docs/versions/v0_3/', 'title': 'LangChain v0.3 | 🦜️🔗 LangChain', 'description': 'Last updated: 09.16.24', 'language': 'en'}, page_content='from multiple retrieversHow to select examples from a LangSmith datasetHow to select examples by lengthHow to select examples by maximal marginal relevance (MMR)How to select examples by n-gram overlapHow to select examples by similarityHow to use reference examples when doing extractionHow to handle long text when doing extractionHow to use prompting alone (no tool calling) to do extractionHow to add fallbacks to a runnableHow to filter messagesHybrid SearchHow to use the LangChain indexing APIHow to inspect runnablesLangChain Expression Language CheatsheetHow to cache LLM responsesHow to track token usage for LLMsRun models locallyHow to get log probabilitiesHow to reorder retrieved results to mitigate the \"lost in the middle\" effectHow to split Markdown by HeadersHow to merge consecutive messages of the same typeHow to add message historyHow to migrate from legacy LangChain agents to LangGraphHow to retrieve using multiple vectors per documentHow to pass multimodal data directly to'),\n",
       " Document(metadata={'source': 'https://python.langchain.com/docs/versions/v0_3/', 'title': 'LangChain v0.3 | 🦜️🔗 LangChain', 'description': 'Last updated: 09.16.24', 'language': 'en'}, page_content='messages of the same typeHow to add message historyHow to migrate from legacy LangChain agents to LangGraphHow to retrieve using multiple vectors per documentHow to pass multimodal data directly to modelsHow to use multimodal promptsHow to create a custom Output ParserHow to use the output-fixing parserHow to parse JSON outputHow to retry when a parsing error occursHow to parse text from message objectsHow to parse XML outputHow to parse YAML outputHow to use the Parent Document RetrieverHow to use LangChain with different Pydantic versionsHow to add chat historyHow to get a RAG application to add citationsHow to do per-user retrievalHow to get your RAG application to return sourcesHow to stream results from your RAG applicationHow to split JSON dataHow to recursively split text by charactersResponse metadataHow to pass runtime secrets to runnablesHow to do \"self-querying\" retrievalHow to split text based on semantic similarityHow to chain runnablesHow to save and load LangChain'),\n",
       " Document(metadata={'source': 'https://python.langchain.com/docs/versions/v0_3/', 'title': 'LangChain v0.3 | 🦜️🔗 LangChain', 'description': 'Last updated: 09.16.24', 'language': 'en'}, page_content='metadataHow to pass runtime secrets to runnablesHow to do \"self-querying\" retrievalHow to split text based on semantic similarityHow to chain runnablesHow to save and load LangChain objectsHow to split text by tokensHow to split HTMLHow to do question answering over CSVsHow to deal with large databases when doing SQL question-answeringHow to better prompt when doing SQL question-answeringHow to do query validation as part of SQL question-answeringHow to stream runnablesHow to stream responses from an LLMHow to use a time-weighted vector store retrieverHow to return artifacts from a toolHow to use chat models to call toolsHow to disable parallel tool callingHow to force models to call a toolHow to access the RunnableConfig from a toolHow to pass tool outputs to chat modelsHow to pass run time values to toolsHow to stream events from a toolHow to stream tool callsHow to convert tools to OpenAI FunctionsHow to handle tool errorsHow to use few-shot prompting with tool callingHow to add a'),\n",
       " Document(metadata={'source': 'https://python.langchain.com/docs/versions/v0_3/', 'title': 'LangChain v0.3 | 🦜️🔗 LangChain', 'description': 'Last updated: 09.16.24', 'language': 'en'}, page_content='values to toolsHow to stream events from a toolHow to stream tool callsHow to convert tools to OpenAI FunctionsHow to handle tool errorsHow to use few-shot prompting with tool callingHow to add a human-in-the-loop for toolsHow to bind model-specific toolsHow to trim messagesHow to create and query vector storesConceptual guideAgentsArchitectureAsync programming with langchainCallbacksChat historyChat modelsDocument loadersEmbedding modelsEvaluationExample selectorsFew-shot promptingConceptual guideKey-value storesLangChain Expression Language (LCEL)MessagesMultimodalityOutput parsersPrompt TemplatesRetrieval augmented generation (RAG)RetrievalRetrieversRunnable interfaceStreamingStructured outputsTestingString-in, string-out llmsText splittersTokensTool callingToolsTracingVector storesWhy LangChain?Ecosystem🦜🛠️ LangSmith🦜🕸️ LangGraphVersionsv0.3v0.2Pydantic compatibilityMigrating from v0.0 chainsHow to migrate from v0.0 chainsMigrating from ConstitutionalChainMigrating from'),\n",
       " Document(metadata={'source': 'https://python.langchain.com/docs/versions/v0_3/', 'title': 'LangChain v0.3 | 🦜️🔗 LangChain', 'description': 'Last updated: 09.16.24', 'language': 'en'}, page_content='storesWhy LangChain?Ecosystem🦜🛠️ LangSmith🦜🕸️ LangGraphVersionsv0.3v0.2Pydantic compatibilityMigrating from v0.0 chainsHow to migrate from v0.0 chainsMigrating from ConstitutionalChainMigrating from ConversationalChainMigrating from ConversationalRetrievalChainMigrating from LLMChainMigrating from LLMMathChainMigrating from LLMRouterChainMigrating from MapReduceDocumentsChainMigrating from MapRerankDocumentsChainMigrating from MultiPromptChainMigrating from RefineDocumentsChainMigrating from RetrievalQAMigrating from StuffDocumentsChainUpgrading to LangGraph memoryHow to migrate to LangGraph memoryHow to use BaseChatMessageHistory with LangGraphMigrating off ConversationBufferMemory or ConversationStringBufferMemoryMigrating off ConversationBufferWindowMemory or ConversationTokenBufferMemoryMigrating off ConversationSummaryMemory or ConversationSummaryBufferMemoryA Long-Term Memory AgentRelease policySecurity PolicyVersionsv0.3On this pageLangChain v0.3'),\n",
       " Document(metadata={'source': 'https://python.langchain.com/docs/versions/v0_3/', 'title': 'LangChain v0.3 | 🦜️🔗 LangChain', 'description': 'Last updated: 09.16.24', 'language': 'en'}, page_content=\"Last updated: 09.16.24\\nWhat's changed\\u200b\"),\n",
       " Document(metadata={'source': 'https://python.langchain.com/docs/versions/v0_3/', 'title': 'LangChain v0.3 | 🦜️🔗 LangChain', 'description': 'Last updated: 09.16.24', 'language': 'en'}, page_content='All packages have been upgraded from Pydantic 1 to Pydantic 2 internally. Use of Pydantic 2 in user code is fully supported with all packages without the need for bridges like langchain_core.pydantic_v1 or pydantic.v1.\\nPydantic 1 will no longer be supported as it reached its end-of-life in June 2024.\\nPython 3.8 will no longer be supported as its end-of-life is October 2024.\\n\\nThese are the only breaking changes.\\nWhat’s new\\u200b\\nThe following features have been added during the development of 0.2.x:'),\n",
       " Document(metadata={'source': 'https://python.langchain.com/docs/versions/v0_3/', 'title': 'LangChain v0.3 | 🦜️🔗 LangChain', 'description': 'Last updated: 09.16.24', 'language': 'en'}, page_content='These are the only breaking changes.\\nWhat’s new\\u200b\\nThe following features have been added during the development of 0.2.x:\\n\\nMoved more integrations from langchain-community to their own langchain-x packages. This is a non-breaking change, as the legacy implementations are left in langchain-community and marked as deprecated. This allows us to better manage the dependencies of, test, and version these integrations. You can see all the latest integration packages in the API reference.\\nSimplified tool definition and usage. Read more here.\\nAdded utilities for interacting with chat models: universal model constructor, rate limiter, message utilities,\\nAdded the ability to dispatch custom events.\\nRevamped integration docs and API reference. Read more here.\\nMarked as deprecated a number of legacy chains and added migration guides for all of them. These are slated for removal in langchain 1.0.0. See the deprecated chains and associated migration guides here.'),\n",
       " Document(metadata={'source': 'https://python.langchain.com/docs/versions/v0_3/', 'title': 'LangChain v0.3 | 🦜️🔗 LangChain', 'description': 'Last updated: 09.16.24', 'language': 'en'}, page_content=\"How to update your code\\u200b\\nIf you're using langchain / langchain-community / langchain-core 0.0 or 0.1, we recommend that you first upgrade to 0.2.\\nIf you're using langgraph, upgrade to langgraph>=0.2.20,<0.3. This will work with either 0.2 or 0.3 versions of all the base packages.\\nHere is a complete list of all packages that have been released and what we recommend upgrading your version constraints to.\\nAny package that now requires langchain-core 0.3 had a minor version bump.\\nAny package that is now compatible with both langchain-core 0.2 and 0.3 had a patch version bump.\\nYou can use the langchain-cli to update deprecated imports automatically.\\nThe CLI will handle updating deprecated imports that were introduced in LangChain 0.0.x and LangChain 0.1, as\\nwell as updating the langchain_core.pydantic_v1 and langchain.pydantic_v1 imports.\\nBase packages\\u200b\"),\n",
       " Document(metadata={'source': 'https://python.langchain.com/docs/versions/v0_3/', 'title': 'LangChain v0.3 | 🦜️🔗 LangChain', 'description': 'Last updated: 09.16.24', 'language': 'en'}, page_content='well as updating the langchain_core.pydantic_v1 and langchain.pydantic_v1 imports.\\nBase packages\\u200b\\nPackageLatestRecommended constraintlangchain0.3.0>=0.3,<0.4langchain-community0.3.0>=0.3,<0.4langchain-text-splitters0.3.0>=0.3,<0.4langchain-core0.3.0>=0.3,<0.4langchain-experimental0.3.0>=0.3,<0.4\\nDownstream packages\\u200b\\nPackageLatestRecommended constraintlanggraph0.2.20>=0.2.20,<0.3langserve0.3.0>=0.3,<0.4\\nIntegration packages\\u200b'),\n",
       " Document(metadata={'source': 'https://python.langchain.com/docs/versions/v0_3/', 'title': 'LangChain v0.3 | 🦜️🔗 LangChain', 'description': 'Last updated: 09.16.24', 'language': 'en'}, page_content='PackageLatestRecommended'),\n",
       " Document(metadata={'source': 'https://python.langchain.com/docs/versions/v0_3/', 'title': 'LangChain v0.3 | 🦜️🔗 LangChain', 'description': 'Last updated: 09.16.24', 'language': 'en'}, page_content='constraintlangchain-ai210.2.0>=0.2,<0.3langchain-aws0.2.0>=0.2,<0.3langchain-anthropic0.2.0>=0.2,<0.3langchain-astradb0.4.1>=0.4.1,<0.5langchain-azure-dynamic-sessions0.2.0>=0.2,<0.3langchain-box0.2.0>=0.2,<0.3langchain-chroma0.1.4>=0.1.4,<0.2langchain-cohere0.3.0>=0.3,<0.4langchain-elasticsearch0.3.0>=0.3,<0.4langchain-exa0.2.0>=0.2,<0.3langchain-fireworks0.2.0>=0.2,<0.3langchain-groq0.2.0>=0.2,<0.3langchain-google-community2.0.0>=2,<3langchain-google-genai2.0.0>=2,<3langchain-google-vertexai2.0.0>=2,<3langchain-huggingface0.1.0>=0.1,<0.2langchain-ibm0.3.0>=0.3,<0.4langchain-milvus0.1.6>=0.1.6,<0.2langchain-mistralai0.2.0>=0.2,<0.3langchain-mongodb0.2.0>=0.2,<0.3langchain-nomic0.1.3>=0.1.3,<0.2langchain-nvidia0.3.0>=0.3,<0.4langchain-ollama0.2.0>=0.2,<0.3langchain-openai0.2.0>=0.2,<0.3langchain-pinecone0.2.0>=0.2,<0.3langchain-postgres0.0.13>=0.0.13,<0.1langchain-prompty0.1.0>=0.1,<0.2langchain-qdrant0.1.4>=0.1.4,<0.2langchain-redis0.1.0>=0.1,<0.2langchain-sema40.2.0>=0.2,<0.3langcha'),\n",
       " Document(metadata={'source': 'https://python.langchain.com/docs/versions/v0_3/', 'title': 'LangChain v0.3 | 🦜️🔗 LangChain', 'description': 'Last updated: 09.16.24', 'language': 'en'}, page_content='ngchain-pinecone0.2.0>=0.2,<0.3langchain-postgres0.0.13>=0.0.13,<0.1langchain-prompty0.1.0>=0.1,<0.2langchain-qdrant0.1.4>=0.1.4,<0.2langchain-redis0.1.0>=0.1,<0.2langchain-sema40.2.0>=0.2,<0.3langchain-together0.2.0>=0.2,<0.3langchain-unstructured0.1.4>=0.1.4,<0.2langchain-upstage0.3.0>=0.3,<0.4langchain-voyageai0.2.0>=0.2,<0.3langchain-weaviate0.0.3>=0.0.3,<0.1'),\n",
       " Document(metadata={'source': 'https://python.langchain.com/docs/versions/v0_3/', 'title': 'LangChain v0.3 | 🦜️🔗 LangChain', 'description': 'Last updated: 09.16.24', 'language': 'en'}, page_content=\"Once you've updated to recent versions of the packages, you may need to address the following issues stemming from the internal switch from Pydantic v1 to Pydantic v2:\"),\n",
       " Document(metadata={'source': 'https://python.langchain.com/docs/versions/v0_3/', 'title': 'LangChain v0.3 | 🦜️🔗 LangChain', 'description': 'Last updated: 09.16.24', 'language': 'en'}, page_content='If your code depends on Pydantic aside from LangChain, you will need to upgrade your pydantic version constraints to be pydantic>=2,<3.  See Pydantic’s migration guide for help migrating your non-LangChain code to Pydantic v2 if you use pydantic v1.\\nThere are a number of side effects to LangChain components caused by the internal switch from Pydantic v1 to v2. We have listed some of the common cases below together with the recommended solutions.'),\n",
       " Document(metadata={'source': 'https://python.langchain.com/docs/versions/v0_3/', 'title': 'LangChain v0.3 | 🦜️🔗 LangChain', 'description': 'Last updated: 09.16.24', 'language': 'en'}, page_content='Common issues when transitioning to Pydantic 2\\u200b\\n1. Do not use the langchain_core.pydantic_v1 namespace\\u200b\\nReplace any usage of langchain_core.pydantic_v1 or langchain.pydantic_v1 with\\ndirect imports from pydantic.\\nFor example,\\nfrom langchain_core.pydantic_v1 import BaseModel\\nto:\\nfrom pydantic import BaseModel\\nThis may require you to make additional updates to your Pydantic code given that there are a number of breaking changes in Pydantic 2. See the Pydantic Migration for how to upgrade your code from Pydantic 1 to 2.\\n2. Passing Pydantic objects to LangChain APIs\\u200b\\nUsers using the following APIs:\\n\\nBaseChatModel.bind_tools\\nBaseChatModel.with_structured_output\\nTool.from_function\\nStructuredTool.from_function'),\n",
       " Document(metadata={'source': 'https://python.langchain.com/docs/versions/v0_3/', 'title': 'LangChain v0.3 | 🦜️🔗 LangChain', 'description': 'Last updated: 09.16.24', 'language': 'en'}, page_content=\"should ensure that they are passing Pydantic 2 objects to these APIs rather than\\nPydantic 1 objects (created via the pydantic.v1 namespace of pydantic 2).\\ncautionWhile v1 objects may be accepted by some of these APIs, users are advised to\\nuse Pydantic 2 objects to avoid future issues.\\n3. Sub-classing LangChain models\\u200b\\nAny sub-classing from existing LangChain models (e.g., BaseTool, BaseChatModel, LLM)\\nshould upgrade to use Pydantic 2 features.\\nFor example, any user code that's relying on Pydantic 1 features (e.g., validator) should\\nbe updated to the Pydantic 2 equivalent (e.g., field_validator), and any references to\\npydantic.v1, langchain_core.pydantic_v1, langchain.pydantic_v1 should be replaced\\nwith imports from pydantic.\"),\n",
       " Document(metadata={'source': 'https://python.langchain.com/docs/versions/v0_3/', 'title': 'LangChain v0.3 | 🦜️🔗 LangChain', 'description': 'Last updated: 09.16.24', 'language': 'en'}, page_content='be updated to the Pydantic 2 equivalent (e.g., field_validator), and any references to\\npydantic.v1, langchain_core.pydantic_v1, langchain.pydantic_v1 should be replaced\\nwith imports from pydantic.\\nfrom pydantic.v1 import validator, Field # if pydantic 2 is installed# from pydantic import validator, Field # if pydantic 1 is installed# from langchain_core.pydantic_v1 import validator, Field# from langchain.pydantic_v1 import validator, Fieldclass CustomTool(BaseTool): # BaseTool is v1 code    x: int = Field(default=1)    def _run(*args, **kwargs):        return \"hello\"    @validator(\\'x\\') # v1 code    @classmethod    def validate_x(cls, x: int) -> int:        return 1\\nShould change to:'),\n",
       " Document(metadata={'source': 'https://python.langchain.com/docs/versions/v0_3/', 'title': 'LangChain v0.3 | 🦜️🔗 LangChain', 'description': 'Last updated: 09.16.24', 'language': 'en'}, page_content='Should change to:\\nfrom pydantic import Field, field_validator # pydantic v2from langchain_core.pydantic_v1 import BaseToolclass CustomTool(BaseTool): # BaseTool is v1 code    x: int = Field(default=1)    def _run(*args, **kwargs):        return \"hello\"    @field_validator(\\'x\\') # v2 code    @classmethod    def validate_x(cls, x: int) -> int:        return 1CustomTool(    name=\\'custom_tool\\',    description=\"hello\",    x=1,)\\n4. model_rebuild()\\u200b\\nWhen sub-classing from LangChain models, users may need to add relevant imports\\nto the file and rebuild the model.\\nYou can read more about model_rebuild here.\\nfrom langchain_core.output_parsers import BaseOutputParserclass FooParser(BaseOutputParser):    ...API Reference:BaseOutputParser\\nNew code:\\nfrom typing import Optional as Optionalfrom langchain_core.output_parsers import BaseOutputParserclass FooParser(BaseOutputParser):    ...FooParser.model_rebuild()API Reference:BaseOutputParser\\nMigrate using langchain-cli\\u200b'),\n",
       " Document(metadata={'source': 'https://python.langchain.com/docs/versions/v0_3/', 'title': 'LangChain v0.3 | 🦜️🔗 LangChain', 'description': 'Last updated: 09.16.24', 'language': 'en'}, page_content='Migrate using langchain-cli\\u200b\\nThe langchain-cli can help update deprecated LangChain imports in your code automatically.\\nPlease note that the langchain-cli only handles deprecated LangChain imports and cannot\\nhelp to upgrade your code from pydantic 1 to pydantic 2.\\nFor help with the Pydantic 1 to 2 migration itself please refer to the Pydantic Migration Guidelines.\\nAs of 0.0.31, the langchain-cli relies on gritql for applying code mods.\\nInstallation\\u200b\\npip install -U langchain-clilangchain-cli --version # <-- Make sure the version is at least 0.0.31\\nUsage\\u200b\\nGiven that the migration script is not perfect, you should make sure you have a backup of your code first (e.g., using version control like git).\\nThe langchain-cli will handle the langchain_core.pydantic_v1 deprecation introduced in LangChain 0.3 as well\\nas older deprecations (e.g.,from langchain.chat_models import ChatOpenAI which should be from langchain_openai import ChatOpenAI),'),\n",
       " Document(metadata={'source': 'https://python.langchain.com/docs/versions/v0_3/', 'title': 'LangChain v0.3 | 🦜️🔗 LangChain', 'description': 'Last updated: 09.16.24', 'language': 'en'}, page_content='as older deprecations (e.g.,from langchain.chat_models import ChatOpenAI which should be from langchain_openai import ChatOpenAI),\\nYou will need to run the migration script twice as it only applies one import replacement per run.\\nFor example, say that your code is still using the old import from langchain.chat_models import ChatOpenAI:\\nAfter the first run, you’ll get: from langchain_community.chat_models import ChatOpenAI\\nAfter the second run, you’ll get: from langchain_openai import ChatOpenAI\\n# Run a first time# Will replace from langchain.chat_models import ChatOpenAIlangchain-cli migrate --help [path to code] # Helplangchain-cli migrate [path to code] # Apply# Run a second time to apply more import replacementslangchain-cli migrate --diff [path to code] # Previewlangchain-cli migrate [path to code] # Apply\\nOther options\\u200b'),\n",
       " Document(metadata={'source': 'https://python.langchain.com/docs/versions/v0_3/', 'title': 'LangChain v0.3 | 🦜️🔗 LangChain', 'description': 'Last updated: 09.16.24', 'language': 'en'}, page_content=\"Other options\\u200b\\n# See help menulangchain-cli migrate --help# Preview Changes without applyinglangchain-cli migrate --diff [path to code]# Approve changes interactivelylangchain-cli migrate --interactive [path to code]Edit this pageWas this page helpful?PreviousWhy LangChain?NextOverviewWhat's changedWhat’s newHow to update your codeBase packagesDownstream packagesIntegration packagesCommon issues when transitioning to Pydantic 21. Do not use the langchain_core.pydantic_v1 namespace2. Passing Pydantic objects to LangChain APIs3. Sub-classing LangChain models4. model_rebuild()Migrate using langchain-cliInstallationUsageOther optionsCommunityTwitterGitHubOrganizationPythonJS/TSMoreHomepageBlogYouTubeCopyright © 2025 LangChain, Inc.\")]"
      ]
     },
     "execution_count": 4,
     "metadata": {},
     "output_type": "execute_result"
    }
   ],
   "source": [
    "from langchain_text_splitters import RecursiveCharacterTextSplitter\n",
    "\n",
    "text_splitter = RecursiveCharacterTextSplitter(chunk_size=1000, chunk_overlap=200)\n",
    "documents = text_splitter.split_documents(document)\n",
    "documents"
   ]
  },
  {
   "cell_type": "code",
   "execution_count": 5,
   "metadata": {},
   "outputs": [],
   "source": [
    "## OpenAI Embeddings\n",
    "from langchain_openai import OpenAIEmbeddings\n",
    "embeddings = OpenAIEmbeddings()\n",
    "\n",
    "## Store in the FAISS Vector Store\n",
    "from langchain_community.vectorstores import FAISS\n",
    "vector_store = FAISS.from_documents(documents,embeddings)"
   ]
  },
  {
   "cell_type": "code",
   "execution_count": 6,
   "metadata": {},
   "outputs": [],
   "source": [
    "## Initializing the Model\n",
    "from langchain_openai import ChatOpenAI\n",
    "llm = ChatOpenAI(model='gpt-4o')"
   ]
  },
  {
   "cell_type": "code",
   "execution_count": null,
   "metadata": {},
   "outputs": [
    {
     "name": "stdout",
     "output_type": "stream",
     "text": [
      "Migrate using langchain-cli​\n",
      "The langchain-cli can help update deprecated LangChain imports in your code automatically.\n",
      "Please note that the langchain-cli only handles deprecated LangChain imports and cannot\n",
      "help to upgrade your code from pydantic 1 to pydantic 2.\n",
      "For help with the Pydantic 1 to 2 migration itself please refer to the Pydantic Migration Guidelines.\n",
      "As of 0.0.31, the langchain-cli relies on gritql for applying code mods.\n",
      "Installation​\n",
      "pip install -U langchain-clilangchain-cli --version # <-- Make sure the version is at least 0.0.31\n",
      "Usage​\n",
      "Given that the migration script is not perfect, you should make sure you have a backup of your code first (e.g., using version control like git).\n",
      "The langchain-cli will handle the langchain_core.pydantic_v1 deprecation introduced in LangChain 0.3 as well\n",
      "as older deprecations (e.g.,from langchain.chat_models import ChatOpenAI which should be from langchain_openai import ChatOpenAI),\n"
     ]
    }
   ],
   "source": [
    "## Just a Example to get the context based on the user query from the Vector Store\n",
    "user_query = \"Migrate using langchain-cli\"\n",
    "retrieved_docs = vector_store.similarity_search(user_query)\n",
    "print(retrieved_docs[0].page_content)"
   ]
  },
  {
   "cell_type": "code",
   "execution_count": 8,
   "metadata": {},
   "outputs": [],
   "source": [
    "## Creating the Chat Prompt Template\n",
    "from langchain_core.prompts import ChatPromptTemplate\n",
    "prompt = ChatPromptTemplate.from_template(\n",
    "    \"\"\"\n",
    "    Answer the following question based only on the provided context:\n",
    "    <context>\n",
    "    {context}\n",
    "    </context>\n",
    "    \"\"\"\n",
    ")"
   ]
  },
  {
   "cell_type": "code",
   "execution_count": 9,
   "metadata": {},
   "outputs": [
    {
     "name": "stdout",
     "output_type": "stream",
     "text": [
      "bound=RunnableBinding(bound=RunnableAssign(mapper={\n",
      "  context: RunnableLambda(format_docs)\n",
      "}), kwargs={}, config={'run_name': 'format_inputs'}, config_factories=[])\n",
      "| ChatPromptTemplate(input_variables=['context'], input_types={}, partial_variables={}, messages=[HumanMessagePromptTemplate(prompt=PromptTemplate(input_variables=['context'], input_types={}, partial_variables={}, template='\\n    Answer the following question based only on the provided context:\\n    <context>\\n    {context}\\n    </context>\\n    '), additional_kwargs={})])\n",
      "| ChatOpenAI(client=<openai.resources.chat.completions.Completions object at 0x10faaa6f0>, async_client=<openai.resources.chat.completions.AsyncCompletions object at 0x10fa94530>, root_client=<openai.OpenAI object at 0x10c580a70>, root_async_client=<openai.AsyncOpenAI object at 0x10faaa750>, model_name='gpt-4o', model_kwargs={}, openai_api_key=SecretStr('**********'))\n",
      "| StrOutputParser() kwargs={} config={'run_name': 'stuff_documents_chain'} config_factories=[]\n"
     ]
    }
   ],
   "source": [
    "## Creating the Document Chain\n",
    "from langchain.chains.combine_documents import create_stuff_documents_chain\n",
    "document_chain = create_stuff_documents_chain(llm,prompt)\n",
    "print(document_chain)"
   ]
  },
  {
   "cell_type": "code",
   "execution_count": 10,
   "metadata": {},
   "outputs": [
    {
     "data": {
      "text/plain": [
       "RunnableBinding(bound=RunnableAssign(mapper={\n",
       "  context: RunnableBinding(bound=RunnableLambda(lambda x: x['input'])\n",
       "           | VectorStoreRetriever(tags=['FAISS', 'OpenAIEmbeddings'], vectorstore=<langchain_community.vectorstores.faiss.FAISS object at 0x1193eecf0>, search_kwargs={}), kwargs={}, config={'run_name': 'retrieve_documents'}, config_factories=[])\n",
       "})\n",
       "| RunnableAssign(mapper={\n",
       "    answer: RunnableBinding(bound=RunnableBinding(bound=RunnableAssign(mapper={\n",
       "              context: RunnableLambda(format_docs)\n",
       "            }), kwargs={}, config={'run_name': 'format_inputs'}, config_factories=[])\n",
       "            | ChatPromptTemplate(input_variables=['context'], input_types={}, partial_variables={}, messages=[HumanMessagePromptTemplate(prompt=PromptTemplate(input_variables=['context'], input_types={}, partial_variables={}, template='\\n    Answer the following question based only on the provided context:\\n    <context>\\n    {context}\\n    </context>\\n    '), additional_kwargs={})])\n",
       "            | ChatOpenAI(client=<openai.resources.chat.completions.Completions object at 0x10faaa6f0>, async_client=<openai.resources.chat.completions.AsyncCompletions object at 0x10fa94530>, root_client=<openai.OpenAI object at 0x10c580a70>, root_async_client=<openai.AsyncOpenAI object at 0x10faaa750>, model_name='gpt-4o', model_kwargs={}, openai_api_key=SecretStr('**********'))\n",
       "            | StrOutputParser(), kwargs={}, config={'run_name': 'stuff_documents_chain'}, config_factories=[])\n",
       "  }), kwargs={}, config={'run_name': 'retrieval_chain'}, config_factories=[])"
      ]
     },
     "execution_count": 10,
     "metadata": {},
     "output_type": "execute_result"
    }
   ],
   "source": [
    "## Create Retriver Chain to add Vectore Store to the chain as an interface\n",
    "\n",
    "retriever = vector_store.as_retriever()\n",
    "\n",
    "from langchain.chains import create_retrieval_chain\n",
    "\n",
    "retrieval_chain=create_retrieval_chain(retriever,document_chain)\n",
    "retrieval_chain"
   ]
  },
  {
   "cell_type": "code",
   "execution_count": 13,
   "metadata": {},
   "outputs": [
    {
     "name": "stdout",
     "output_type": "stream",
     "text": [
      "\n",
      "\n",
      "Answer:\n",
      "What is the role of the `langchain-cli` in updating LangChain imports?\n",
      "\n",
      "The `langchain-cli` helps update deprecated LangChain imports in your code automatically. It handles deprecated imports such as those in `langchain_core.pydantic_v1` and others introduced in earlier versions of LangChain. However, it does not assist with migrating from Pydantic 1 to Pydantic 2.\n"
     ]
    }
   ],
   "source": [
    "## Run the RAG Pipeline\n",
    "\n",
    "result=retrieval_chain.invoke({\"input\":\"Migrate using langchain-cli\"})\n",
    "print(\"\\n\\nAnswer:\")\n",
    "print(result['answer'])"
   ]
  },
  {
   "cell_type": "code",
   "execution_count": null,
   "metadata": {},
   "outputs": [],
   "source": []
  }
 ],
 "metadata": {
  "kernelspec": {
   "display_name": "Python 3",
   "language": "python",
   "name": "python3"
  },
  "language_info": {
   "codemirror_mode": {
    "name": "ipython",
    "version": 3
   },
   "file_extension": ".py",
   "mimetype": "text/x-python",
   "name": "python",
   "nbconvert_exporter": "python",
   "pygments_lexer": "ipython3",
   "version": "3.12.0"
  }
 },
 "nbformat": 4,
 "nbformat_minor": 2
}
